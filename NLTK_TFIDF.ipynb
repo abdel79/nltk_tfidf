{
  "nbformat": 4,
  "nbformat_minor": 0,
  "metadata": {
    "colab": {
      "name": "Untitled1.ipynb",
      "provenance": []
    },
    "kernelspec": {
      "name": "python3",
      "display_name": "Python 3"
    },
    "language_info": {
      "name": "python"
    }
  },
  "cells": [
    {
      "cell_type": "code",
      "metadata": {
        "colab": {
          "base_uri": "https://localhost:8080/"
        },
        "id": "n71UdPEsQamn",
        "outputId": "c93706a3-2316-4a96-869e-7b213a5e3674"
      },
      "source": [
        "txt = [        \n",
        "\"\"\"Perhaps one of the most significant advances made by Arabic mathematics began at this time with the work of al-Khwarizmi, namely\n",
        "the beginnings of algebra. It is important to understand just how significant this new idea was. It was a revolutionary move away from\n",
        "the Greek concept of mathematics which was essentially geometry. Algebra was a unifying theory which allowed rational\n",
        "numbers, irrational numbers, geometrical magnitudes, etc., to all be treated as \"algebraic objects\". It gave mathematics a whole new\n",
        "development path so much broader in concept to that which had existed before, and provided a vehicle for future development of the\n",
        "subject. Another important aspect of the introduction of algebraic ideas was that it allowed mathematics to be applied to itself in a\n",
        "way which had not happened before.\"\"\",\n",
        "\n",
        " \"\"\"ربما كانت أحد أهم التطورات التي قامت بها الرياضيات العربية التي بدأت في هذا الوقت بعمل الخوارزمي  وهي بدايات الجبر،ومن المهم فهم كيف كانت هذه الفكرة الجديدة مهمة، فقد كانت خطوة ثورية بعيدا عن\n",
        "المفهوم اليوناني للرياضيات التي هي في جوهرها  هندسة، الجبركان نظرية موحدة تتحيح الأعداد الكسرية و الأعداد اللا كسرية ، والمقادير الهندسية و غيرها ، أن تتعامل على أنها أجسام جبرية، و أعطت الرياضيات ككل مسارا جديدًا للتطوربمفهوم \n",
        " أوسع بكثير من الذي كان موجودًا من قبل ، وقدم وسيلة للتنمية في هذا الموضوع مستقبلا .و جانب آخر مهم لإدخال أفكار الجبر و هو أنه سمح بتطبيق الرياضيات على نفسها \n",
        "بطريقة  لم تحدث من قبل.\"\"\"\n",
        "]\n",
        "\n",
        "print(txt)"
      ],
      "execution_count": 9,
      "outputs": [
        {
          "output_type": "stream",
          "text": [
            "['Perhaps one of the most significant advances made by Arabic mathematics began at this time with the work of al-Khwarizmi, namely\\nthe beginnings of algebra. It is important to understand just how significant this new idea was. It was a revolutionary move away from\\nthe Greek concept of mathematics which was essentially geometry. Algebra was a unifying theory which allowed rational\\nnumbers, irrational numbers, geometrical magnitudes, etc., to all be treated as \"algebraic objects\". It gave mathematics a whole new\\ndevelopment path so much broader in concept to that which had existed before, and provided a vehicle for future development of the\\nsubject. Another important aspect of the introduction of algebraic ideas was that it allowed mathematics to be applied to itself in a\\nway which had not happened before.', 'ربما كانت أحد أهم التطورات التي قامت بها الرياضيات العربية التي بدأت في هذا الوقت بعمل الخوارزمي  وهي بدايات الجبر،ومن المهم فهم كيف كانت هذه الفكرة الجديدة مهمة، فقد كانت خطوة ثورية بعيدا عن\\nالمفهوم اليوناني للرياضيات التي هي في جوهرها  هندسة، الجبركان نظرية موحدة تتحيح الأعداد الكسرية و الأعداد اللا كسرية ، والمقادير الهندسية و غيرها ، أن تتعامل على أنها أجسام جبرية، و أعطت الرياضيات ككل مسارا جديدًا للتطوربمفهوم \\n أوسع بكثير من الذي كان موجودًا من قبل ، وقدم وسيلة للتنمية في هذا الموضوع مستقبلا .و جانب آخر مهم لإدخال أفكار الجبر و هو أنه سمح بتطبيق الرياضيات على نفسها \\nبطريقة  لم تحدث من قبل.']\n"
          ],
          "name": "stdout"
        }
      ]
    },
    {
      "cell_type": "markdown",
      "metadata": {
        "id": "C84ZCiBIPznG"
      },
      "source": [
        "\n",
        "**Preprocessing data** \n"
      ]
    },
    {
      "cell_type": "code",
      "metadata": {
        "colab": {
          "base_uri": "https://localhost:8080/"
        },
        "id": "F2kluF3GPqIz",
        "outputId": "e34ed947-b3c7-4cba-96f7-6407fdc790a3"
      },
      "source": [
        "import string\n",
        "import nltk\n",
        "import re\n",
        "from nltk.corpus import stopwords\n",
        "nltk.download('stopwords')\n",
        "from nltk.tokenize import word_tokenize\n",
        "nltk.download('punkt')\n",
        "punctuations = '''`÷×؛<>_()*&^%][ـ،/:\"؟.,'{}~¦+|!”…“–ـ''' + string.punctuation  #all punctuations \n",
        "\n",
        "def delete_punctuations(sentence):\n",
        "  sentence = sentence.lower()\n",
        "  my_clean_sentence = ''.join([item for item in sentence if item not in punctuations ])\n",
        "  return my_clean_sentence\n",
        "  \n",
        "def sentence_tokenize(text):\n",
        "  return word_tokenize(text)\n",
        "  \n",
        "tokenized_list = sentence_tokenize(delete_punctuations(txt[0]))\n",
        "print(tokenized_list)"
      ],
      "execution_count": 10,
      "outputs": [
        {
          "output_type": "stream",
          "text": [
            "[nltk_data] Downloading package stopwords to /root/nltk_data...\n",
            "[nltk_data]   Package stopwords is already up-to-date!\n",
            "[nltk_data] Downloading package punkt to /root/nltk_data...\n",
            "[nltk_data]   Package punkt is already up-to-date!\n",
            "['perhaps', 'one', 'of', 'the', 'most', 'significant', 'advances', 'made', 'by', 'arabic', 'mathematics', 'began', 'at', 'this', 'time', 'with', 'the', 'work', 'of', 'alkhwarizmi', 'namely', 'the', 'beginnings', 'of', 'algebra', 'it', 'is', 'important', 'to', 'understand', 'just', 'how', 'significant', 'this', 'new', 'idea', 'was', 'it', 'was', 'a', 'revolutionary', 'move', 'away', 'from', 'the', 'greek', 'concept', 'of', 'mathematics', 'which', 'was', 'essentially', 'geometry', 'algebra', 'was', 'a', 'unifying', 'theory', 'which', 'allowed', 'rational', 'numbers', 'irrational', 'numbers', 'geometrical', 'magnitudes', 'etc', 'to', 'all', 'be', 'treated', 'as', 'algebraic', 'objects', 'it', 'gave', 'mathematics', 'a', 'whole', 'new', 'development', 'path', 'so', 'much', 'broader', 'in', 'concept', 'to', 'that', 'which', 'had', 'existed', 'before', 'and', 'provided', 'a', 'vehicle', 'for', 'future', 'development', 'of', 'the', 'subject', 'another', 'important', 'aspect', 'of', 'the', 'introduction', 'of', 'algebraic', 'ideas', 'was', 'that', 'it', 'allowed', 'mathematics', 'to', 'be', 'applied', 'to', 'itself', 'in', 'a', 'way', 'which', 'had', 'not', 'happened', 'before']\n"
          ],
          "name": "stdout"
        }
      ]
    },
    {
      "cell_type": "code",
      "metadata": {
        "colab": {
          "base_uri": "https://localhost:8080/"
        },
        "id": "PLwB2zPWPGQK",
        "outputId": "703b3db3-05e3-4d9f-a6c0-4248d82249b6"
      },
      "source": [
        "import nltk\n",
        "\n",
        "documentA = 'Apple Inc. is an American multinational technology company that specializes in consumer electronics, computer software, and online services. Apple is the world\\'s largest technology company by revenue and, since January 2021, the world\\'s most valuable company'\n",
        "documentB = 'Google LLC is an American multinational technology company that specializes in Internet-related services and products, which include online advertising technologies, a search engine, cloud computing, software, and hardware'\n",
        "\n",
        "nltk.download('punkt')\n",
        "tokenize_A = nltk.word_tokenize(documentA)\n",
        "tokenize_B = nltk.word_tokenize(documentB)\n",
        "uniqueWords = set(tokenize_A).union(set(tokenize_B))"
      ],
      "execution_count": 1,
      "outputs": [
        {
          "output_type": "stream",
          "text": [
            "[nltk_data] Downloading package punkt to /root/nltk_data...\n",
            "[nltk_data]   Unzipping tokenizers/punkt.zip.\n"
          ],
          "name": "stdout"
        }
      ]
    },
    {
      "cell_type": "code",
      "metadata": {
        "colab": {
          "base_uri": "https://localhost:8080/"
        },
        "id": "HuJSMqZtPXxT",
        "outputId": "70a2174f-d7a5-4f55-867b-cdfe5d73c83c"
      },
      "source": [
        "print(type(uniqueWords))\n",
        "dict.fromkeys(uniqueWords, 0)"
      ],
      "execution_count": 2,
      "outputs": [
        {
          "output_type": "stream",
          "text": [
            "<class 'set'>\n"
          ],
          "name": "stdout"
        },
        {
          "output_type": "execute_result",
          "data": {
            "text/plain": [
              "{\"'s\": 0,\n",
              " ',': 0,\n",
              " '.': 0,\n",
              " '2021': 0,\n",
              " 'American': 0,\n",
              " 'Apple': 0,\n",
              " 'Google': 0,\n",
              " 'Inc.': 0,\n",
              " 'Internet-related': 0,\n",
              " 'January': 0,\n",
              " 'LLC': 0,\n",
              " 'a': 0,\n",
              " 'advertising': 0,\n",
              " 'an': 0,\n",
              " 'and': 0,\n",
              " 'by': 0,\n",
              " 'cloud': 0,\n",
              " 'company': 0,\n",
              " 'computer': 0,\n",
              " 'computing': 0,\n",
              " 'consumer': 0,\n",
              " 'electronics': 0,\n",
              " 'engine': 0,\n",
              " 'hardware': 0,\n",
              " 'in': 0,\n",
              " 'include': 0,\n",
              " 'is': 0,\n",
              " 'largest': 0,\n",
              " 'most': 0,\n",
              " 'multinational': 0,\n",
              " 'online': 0,\n",
              " 'products': 0,\n",
              " 'revenue': 0,\n",
              " 'search': 0,\n",
              " 'services': 0,\n",
              " 'since': 0,\n",
              " 'software': 0,\n",
              " 'specializes': 0,\n",
              " 'technologies': 0,\n",
              " 'technology': 0,\n",
              " 'that': 0,\n",
              " 'the': 0,\n",
              " 'valuable': 0,\n",
              " 'which': 0,\n",
              " 'world': 0}"
            ]
          },
          "metadata": {
            "tags": []
          },
          "execution_count": 2
        }
      ]
    },
    {
      "cell_type": "code",
      "metadata": {
        "id": "jApxQYJuPnha"
      },
      "source": [
        "numOfWordsA = dict.fromkeys(uniqueWords, 0)\n",
        "for word in tokenize_A:\n",
        "    numOfWordsA[word] += 1\n",
        "numOfWordsB = dict.fromkeys(uniqueWords, 0)\n",
        "for word in tokenize_B:\n",
        "    numOfWordsB[word] += 1"
      ],
      "execution_count": 3,
      "outputs": []
    },
    {
      "cell_type": "code",
      "metadata": {
        "colab": {
          "base_uri": "https://localhost:8080/"
        },
        "id": "KUq0p4N-QIlw",
        "outputId": "fd7b89c8-4b00-4a84-f9de-cc8b08540fde"
      },
      "source": [
        "print(numOfWordsA)"
      ],
      "execution_count": 5,
      "outputs": [
        {
          "output_type": "stream",
          "text": [
            "{'valuable': 1, 'Google': 0, 'Internet-related': 0, 'most': 1, 'technology': 2, 'a': 0, ',': 4, 'largest': 1, 'since': 1, 'engine': 0, 'online': 1, 'technologies': 0, 'American': 1, 'cloud': 0, 'world': 2, 'software': 1, '.': 1, 'multinational': 1, 'in': 1, 'January': 1, 'electronics': 1, 'revenue': 1, 'computer': 1, 'and': 2, 'advertising': 0, 'Inc.': 1, 'include': 0, 'an': 1, 'services': 1, 'products': 0, 'computing': 0, 'that': 1, 'company': 3, 'the': 2, '2021': 1, \"'s\": 2, 'specializes': 1, 'which': 0, 'consumer': 1, 'hardware': 0, 'LLC': 0, 'is': 2, 'by': 1, 'search': 0, 'Apple': 2}\n"
          ],
          "name": "stdout"
        }
      ]
    },
    {
      "cell_type": "code",
      "metadata": {
        "colab": {
          "base_uri": "https://localhost:8080/"
        },
        "id": "Zuwu9bUIQK64",
        "outputId": "e7b384bf-9edd-41ee-b7be-8f413813e91f"
      },
      "source": [
        "print(numOfWordsB)"
      ],
      "execution_count": 6,
      "outputs": [
        {
          "output_type": "stream",
          "text": [
            "{'valuable': 0, 'Google': 1, 'Internet-related': 1, 'most': 0, 'technology': 1, 'a': 1, ',': 5, 'largest': 0, 'since': 0, 'engine': 1, 'online': 1, 'technologies': 1, 'American': 1, 'cloud': 1, 'world': 0, 'software': 1, '.': 0, 'multinational': 1, 'in': 1, 'January': 0, 'electronics': 0, 'revenue': 0, 'computer': 0, 'and': 2, 'advertising': 1, 'Inc.': 0, 'include': 1, 'an': 1, 'services': 1, 'products': 1, 'computing': 1, 'that': 1, 'company': 1, 'the': 0, '2021': 0, \"'s\": 0, 'specializes': 1, 'which': 1, 'consumer': 0, 'hardware': 1, 'LLC': 1, 'is': 1, 'by': 0, 'search': 1, 'Apple': 0}\n"
          ],
          "name": "stdout"
        }
      ]
    },
    {
      "cell_type": "code",
      "metadata": {
        "colab": {
          "base_uri": "https://localhost:8080/"
        },
        "id": "2eMlb1euQObT",
        "outputId": "1d20aff0-c91a-4b42-ba91-a0be9eb8d215"
      },
      "source": [
        "#Calculation de TF\n",
        "print(tokenize_A) \n",
        "print(numOfWordsA)"
      ],
      "execution_count": 7,
      "outputs": [
        {
          "output_type": "stream",
          "text": [
            "['Apple', 'Inc.', 'is', 'an', 'American', 'multinational', 'technology', 'company', 'that', 'specializes', 'in', 'consumer', 'electronics', ',', 'computer', 'software', ',', 'and', 'online', 'services', '.', 'Apple', 'is', 'the', 'world', \"'s\", 'largest', 'technology', 'company', 'by', 'revenue', 'and', ',', 'since', 'January', '2021', ',', 'the', 'world', \"'s\", 'most', 'valuable', 'company']\n",
            "{'valuable': 1, 'Google': 0, 'Internet-related': 0, 'most': 1, 'technology': 2, 'a': 0, ',': 4, 'largest': 1, 'since': 1, 'engine': 0, 'online': 1, 'technologies': 0, 'American': 1, 'cloud': 0, 'world': 2, 'software': 1, '.': 1, 'multinational': 1, 'in': 1, 'January': 1, 'electronics': 1, 'revenue': 1, 'computer': 1, 'and': 2, 'advertising': 0, 'Inc.': 1, 'include': 0, 'an': 1, 'services': 1, 'products': 0, 'computing': 0, 'that': 1, 'company': 3, 'the': 2, '2021': 1, \"'s\": 2, 'specializes': 1, 'which': 0, 'consumer': 1, 'hardware': 0, 'LLC': 0, 'is': 2, 'by': 1, 'search': 0, 'Apple': 2}\n"
          ],
          "name": "stdout"
        }
      ]
    },
    {
      "cell_type": "code",
      "metadata": {
        "colab": {
          "base_uri": "https://localhost:8080/"
        },
        "id": "MTkEXARbQnQF",
        "outputId": "c2802c1b-05af-4025-d957-b98a2536f7bb"
      },
      "source": [
        "\n",
        "import math\n",
        "N = len([numOfWordsA, numOfWordsB])\n",
        "    \n",
        "idfDict = dict.fromkeys([numOfWordsA, numOfWordsB][0].keys(), 0)\n",
        "k = 0\n",
        "for document in [numOfWordsA, numOfWordsB]:\n",
        "  for word, val in document.items(): \n",
        "    if val > 0:\n",
        "      idfDict[word] += 1 \n",
        "print(idfDict)  \n",
        "\n",
        "\n",
        "\n",
        "for word, val in idfDict.items():\n",
        "  idfDict[word] =  math.log(N / float(val))"
      ],
      "execution_count": 11,
      "outputs": [
        {
          "output_type": "stream",
          "text": [
            "{'valuable': 1, 'Google': 1, 'Internet-related': 1, 'most': 1, 'technology': 2, 'a': 1, ',': 2, 'largest': 1, 'since': 1, 'engine': 1, 'online': 2, 'technologies': 1, 'American': 2, 'cloud': 1, 'world': 1, 'software': 2, '.': 1, 'multinational': 2, 'in': 2, 'January': 1, 'electronics': 1, 'revenue': 1, 'computer': 1, 'and': 2, 'advertising': 1, 'Inc.': 1, 'include': 1, 'an': 2, 'services': 2, 'products': 1, 'computing': 1, 'that': 2, 'company': 2, 'the': 1, '2021': 1, \"'s\": 1, 'specializes': 2, 'which': 1, 'consumer': 1, 'hardware': 1, 'LLC': 1, 'is': 2, 'by': 1, 'search': 1, 'Apple': 1}\n"
          ],
          "name": "stdout"
        }
      ]
    }
  ]
}